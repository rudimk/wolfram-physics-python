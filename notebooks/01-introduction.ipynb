{
 "cells": [
  {
   "cell_type": "markdown",
   "metadata": {},
   "source": [
    "# Introduction"
   ]
  },
  {
   "cell_type": "markdown",
   "metadata": {},
   "source": [
    "> \"In many ways it’s the ultimate question in natural science: How does our universe work? Is there a fundamental theory? An incredible amount has been figured out about physics over the past few hundred years. But even with everything that’s been done—and it’s very impressive—we still, after all this time, don’t have a truly fundamental theory of physics.\"\n",
    "\n",
    "> --- [Stephen Wolfram](https://writings.stephenwolfram.com/2020/04/finally-we-may-have-a-path-to-the-fundamental-theory-of-physics-and-its-beautiful/)"
   ]
  },
  {
   "cell_type": "markdown",
   "metadata": {},
   "source": [
    "This project is an attempt to understand the computational framework underlying the Wolfram Physics Project, using Python. While Mathematica and the Wolfram Cloud are absolutely brilliant at what they do, I happen to be rather comfortable with Python, and the idea of using Python to model a computational universe built on a set of simple mathematical rules is exciting. \n",
    "\n",
    "For a better introduction, check out the excerpt from the project's technical overview below:\n",
    "\n",
    ">Quantum mechanics and general relativity—both introduced more than a century ago—have delivered many impressive successes in physics. But so far they have not allowed the formulation of a complete, fundamental theory of our universe, and at this point it seems worthwhile to try exploring other foundations from which space, time, general relativity, quantum mechanics and all the other known features of physics could emerge.\n",
    "\n",
    ">The purpose here is to introduce a class of models that could be relevant. The models are set up to be as minimal and structureless as possible, but despite the simplicity of their construction, they can nevertheless exhibit great complexity and structure in their behavior. Even independent of their possible relevance to fundamental physics, the models appear to be of significant interest in their own right, not least as sources of examples amenable to rich analysis by modern methods in mathematics and mathematical physics.\n",
    "\n",
    ">But what is potentially significant for physics is that with exceptionally little input, the models already seem able to reproduce some important and sophisticated features of known fundamental physics—and give suggestive indications of being able to reproduce much more.\n",
    "\n",
    ">Our approach here is to carry out a fairly extensive empirical investigation of the models, then to use the results of this to make connections with known mathematical and other features of physics. We do not know a priori whether any model that we would recognize as simple can completely describe the operation of our universe—although the very existence of physical laws does seem to indicate some simplicity. But it is basically inevitable that if a simple model exists, then almost nothing about the universe as we normally perceive it—including notions like space and time—will fit recognizably into the model.\n",
    "\n",
    "[Technical Overview](https://www.wolframphysics.org/technical-introduction/introduction/)"
   ]
  },
  {
   "cell_type": "code",
   "execution_count": null,
   "metadata": {},
   "outputs": [],
   "source": []
  },
  {
   "cell_type": "code",
   "execution_count": null,
   "metadata": {},
   "outputs": [],
   "source": []
  }
 ],
 "metadata": {
  "kernelspec": {
   "display_name": "Python 3",
   "language": "python",
   "name": "python3"
  },
  "language_info": {
   "codemirror_mode": {
    "name": "ipython",
    "version": 3
   },
   "file_extension": ".py",
   "mimetype": "text/x-python",
   "name": "python",
   "nbconvert_exporter": "python",
   "pygments_lexer": "ipython3",
   "version": "3.7.7"
  }
 },
 "nbformat": 4,
 "nbformat_minor": 4
}
